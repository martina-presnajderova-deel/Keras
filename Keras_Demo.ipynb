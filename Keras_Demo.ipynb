{
 "cells": [
  {
   "cell_type": "markdown",
   "metadata": {},
   "source": [
    "<img src=\"img/keras.png\" alt=\"drawing\" width=\"250px\"/>"
   ]
  },
  {
   "cell_type": "markdown",
   "metadata": {},
   "source": [
    "# Keras Demo\n",
    "\n",
    "## Regression\n",
    "I.e. numerical output variable \n",
    "\n",
    "### Specify Architecture"
   ]
  },
  {
   "cell_type": "code",
   "execution_count": 142,
   "metadata": {},
   "outputs": [],
   "source": [
    "import keras\n",
    "from keras.layers import Dense #every node from input layer is connected to every node in next layer\n",
    "from keras.models import Sequential #only nodes from two following layers are connected\n",
    "from sklearn.datasets import load_boston\n",
    "\n",
    "#data\n",
    "boston = load_boston()\n",
    "X = boston.data[:,0:13]\n",
    "y = boston.target\n",
    "\n",
    "# Save the number of columns in predictors\n",
    "n_cols = X.shape[1]\n",
    "# Set up the model\n",
    "model = Sequential()\n",
    "# Add the first layer\n",
    "model.add(Dense(13, activation='relu', input_shape=(n_cols,)))\n",
    "# Add the second layer\n",
    "model.add(Dense(7, activation='relu'))\n",
    "# Add the output layer\n",
    "model.add(Dense(1))"
   ]
  },
  {
   "cell_type": "markdown",
   "metadata": {},
   "source": [
    "### Compile and Fit\n",
    "* Specify the optimizer\n",
    " * controls **the learning rate** - right choice can make a big difference how quickly we can find the right weight\n",
    " * can also make a big difference on how good a set of weights we can find\n",
    "   * [Adam](https://keras.io/optimizers/#adam)\n",
    "   * Other Keras optimizers \n",
    "* Second, specify **Loss function**"
   ]
  },
  {
   "cell_type": "code",
   "execution_count": 143,
   "metadata": {},
   "outputs": [
    {
     "name": "stdout",
     "output_type": "stream",
     "text": [
      "Loss function: mean_squared_error\n",
      "Epoch 1/1\n",
      "506/506 [==============================] - 0s 880us/step - loss: 13087.2959\n"
     ]
    },
    {
     "data": {
      "text/plain": [
       "<keras.callbacks.History at 0xb2ea875d0>"
      ]
     },
     "execution_count": 143,
     "metadata": {},
     "output_type": "execute_result"
    }
   ],
   "source": [
    "# Compile the model\n",
    "model.compile(optimizer='adam', \n",
    "              loss='mean_squared_error')\n",
    "# Verify that model contains information from compiling\n",
    "print(\"Loss function: \" + model.loss)\n",
    "\n",
    "# Fit the model\n",
    "model.fit(X,y)\n",
    "#just as a simple demo, we didn't deploy any scaling,.. "
   ]
  },
  {
   "cell_type": "markdown",
   "metadata": {},
   "source": [
    "## Classification \n",
    "I.e. categorical output variable\n",
    "\n",
    "### Specify Architecture, Compile and Fit (few differences in comparison to regression)\n",
    "\n",
    "- 1st difference in Loss function - categorical_crossentropy\n",
    "- 2nd add metrics accuracy to compile step for easy to understand diagnostics\n",
    "- 3rd modify the last layer - separate node for each possible outcome and use softmax\n",
    "\n",
    "We will use one of the mnist datasets - [Fashion-MNIST](https://github.com/zalandoresearch/fashion-mnist). It has the same attributes as MNIST, image size (28x28), structure of training (60,000) and testing (10,000) splits, and 10 categories.\n",
    "\n",
    "Label | Description | Label | Description \n",
    "--- | --- | --- | --- \n",
    "0 | T-shirt | 5 | Sandals\n",
    "1 | Trousers | 6 | Shirt \n",
    "2 | Pullover | 7 | Sneakers\n",
    "3 | Dress | 8 | Bag \n",
    "4 | Coat  | 9 | Ankle boots"
   ]
  },
  {
   "cell_type": "code",
   "execution_count": 97,
   "metadata": {},
   "outputs": [
    {
     "data": {
      "image/png": "[encoded data removed]",
      "text/plain": [
       "<Figure size 432x288 with 4 Axes>"
      ]
     },
     "metadata": {},
     "output_type": "display_data"
    }
   ],
   "source": [
    "#Data\n",
    "from keras.datasets import mnist, fashion_mnist\n",
    "import matplotlib.pyplot as plt\n",
    "%matplotlib inline \n",
    "\n",
    "# Load the mnist\n",
    "#(X_train, y_train), (X_test, y_test) = mnist.load_data()\n",
    "\n",
    "# Load the fashion-mnist #more fun\n",
    "(X_train, y_train), (X_test, y_test) = fashion_mnist.load_data()\n",
    "\n",
    "X_test_raw = X_test\n",
    "\n",
    "# plot images as gray scale\n",
    "plt.subplot(221)\n",
    "plt.imshow(X_train[0], cmap=plt.get_cmap('gray'))\n",
    "plt.subplot(222)\n",
    "plt.imshow(X_train[1], cmap=plt.get_cmap('gray'))\n",
    "plt.subplot(223)\n",
    "plt.imshow(X_train[2], cmap=plt.get_cmap('gray'))\n",
    "plt.subplot(224)\n",
    "plt.imshow(X_train[3], cmap=plt.get_cmap('gray'))\n",
    "plt.suptitle('Sample from the MNIST fashion dataset', fontsize=12)\n",
    "plt.show()\n",
    "\n",
    "\n",
    "# The training dataset - 3-dimensional array:instance, image width, image height\n",
    "# reduce the images down into a vector - 28×28 sized images converts into to 784 pixel input values\n",
    "inputs = X_train.shape[1] * X_train.shape[2]\n",
    "X_train = X_train.reshape(X_train.shape[0], inputs).astype('float32')\n",
    "X_test = X_test.reshape(X_test.shape[0], inputs).astype('float32')\n",
    "\n",
    "\n",
    "# normalize\n",
    "X_train = X_train / 255 #pixel values are gray scale between 0-255, i.e. transform to 0-1\n",
    "X_test = X_test / 255"
   ]
  },
  {
   "cell_type": "code",
   "execution_count": 98,
   "metadata": {},
   "outputs": [
    {
     "name": "stdout",
     "output_type": "stream",
     "text": [
      "Epoch 1/10\n",
      " - 4s - loss: 0.4944 - acc: 0.8269\n",
      "Epoch 2/10\n",
      " - 4s - loss: 0.3617 - acc: 0.8705\n",
      "Epoch 3/10\n",
      " - 4s - loss: 0.3247 - acc: 0.8819\n",
      "Epoch 4/10\n",
      " - 4s - loss: 0.3009 - acc: 0.8886\n",
      "Epoch 5/10\n",
      " - 4s - loss: 0.2804 - acc: 0.8962\n",
      "Epoch 6/10\n",
      " - 4s - loss: 0.2679 - acc: 0.9013\n",
      "Epoch 7/10\n",
      " - 4s - loss: 0.2547 - acc: 0.9050\n",
      "Epoch 8/10\n",
      " - 4s - loss: 0.2400 - acc: 0.9108\n",
      "Epoch 9/10\n",
      " - 4s - loss: 0.2288 - acc: 0.9139\n",
      "Epoch 10/10\n",
      " - 4s - loss: 0.2216 - acc: 0.9164\n"
     ]
    },
    {
     "data": {
      "text/plain": [
       "<keras.callbacks.History at 0xb1615b0d0>"
      ]
     },
     "execution_count": 98,
     "metadata": {},
     "output_type": "execute_result"
    }
   ],
   "source": [
    "import numpy as np\n",
    "from keras.layers import Dense\n",
    "from keras.models import Sequential\n",
    "from keras.utils import to_categorical\n",
    "\n",
    "np.random.seed(42)\n",
    "# Convert the target to categorical\n",
    "y_train = to_categorical(y_train)\n",
    "y_test = to_categorical(y_test)\n",
    "\n",
    "# Save the number of columns in predictors and number of classes \n",
    "n_cols = X_train.shape[1]\n",
    "n_class = y_train.shape[1]\n",
    "\n",
    "# Set up the model\n",
    "model = Sequential()\n",
    "# Add the first layer\n",
    "model.add(Dense(n_cols, activation='relu',input_shape=(n_cols,)))\n",
    "# Add the output layer\n",
    "model.add(Dense(n_class, activation='softmax'))\n",
    "# Compile the model\n",
    "model.compile(optimizer='adam', \n",
    "              loss='categorical_crossentropy', \n",
    "              metrics=['accuracy'] )\n",
    "# Fit the model\n",
    "model.fit(X_train, y_train, epochs=10, batch_size=100, verbose=2)"
   ]
  },
  {
   "cell_type": "markdown",
   "metadata": {},
   "source": [
    "### Predict"
   ]
  },
  {
   "cell_type": "code",
   "execution_count": 99,
   "metadata": {},
   "outputs": [
    {
     "name": "stdout",
     "output_type": "stream",
     "text": [
      "Test accuracy is 0.8849\n"
     ]
    }
   ],
   "source": [
    "#if binary outcome\n",
    "#predictions = model.predict(X_test)\n",
    "# Calculate predicted probability of survival\n",
    "#predicted_prob_true = predictions[:,1]\n",
    "# print predicted_prob_true\n",
    "\n",
    "# Evaluate the model on test set\n",
    "model_eval = model.evaluate(X_test, y_test, verbose=0)\n",
    "# Print test accuracy\n",
    "print(\"Test accuracy is {}\".format(model_eval[1]))"
   ]
  },
  {
   "cell_type": "markdown",
   "metadata": {},
   "source": [
    "### Improvements\n",
    "#### Changing optimization parameters - Learning rate"
   ]
  },
  {
   "cell_type": "code",
   "execution_count": 100,
   "metadata": {},
   "outputs": [
    {
     "name": "stdout",
     "output_type": "stream",
     "text": [
      "\n",
      "\n",
      "Testing model with learning rate: 0.000100\n",
      "\n",
      "Epoch 1/1\n",
      "60000/60000 [==============================] - 7s 110us/step - loss: 2.0537\n",
      "\n",
      "\n",
      "Testing model with learning rate: 0.010000\n",
      "\n",
      "Epoch 1/1\n",
      "60000/60000 [==============================] - 7s 109us/step - loss: 0.6941\n",
      "\n",
      "\n",
      "Testing model with learning rate: 1.000000\n",
      "\n",
      "Epoch 1/1\n",
      "60000/60000 [==============================] - 7s 112us/step - loss: 14.4937\n"
     ]
    }
   ],
   "source": [
    "# Import the SGD optimizer\n",
    "from keras.optimizers import SGD\n",
    "\n",
    "# Create list of learning rates\n",
    "lr_to_test = [0.0001, 0.01, 1]\n",
    "\n",
    "# Loop over learning rates\n",
    "for lr in lr_to_test:\n",
    "    print('\\n\\nTesting model with learning rate: %f\\n'%lr )\n",
    "    \n",
    "    # Build new model to test, unaffected by previous models\n",
    "    model = Sequential()\n",
    "    model.add(Dense(n_cols, activation='relu',input_shape=(n_cols,)))\n",
    "    model.add(Dense(n_class, activation='softmax'))\n",
    "    \n",
    "    # Create SGD optimizer with specified learning rate\n",
    "    my_optimizer = SGD(lr=lr)\n",
    "    \n",
    "    # Compile the model\n",
    "    model.compile(optimizer=my_optimizer, loss='categorical_crossentropy')\n",
    "    \n",
    "    # Fit the model\n",
    "    model.fit(X_train, y_train)\n",
    "    \n",
    "#'low value for the loss function is a good value for the loss function'\n",
    "#for simplicity, 1 epoch"
   ]
  },
  {
   "cell_type": "markdown",
   "metadata": {},
   "source": [
    "### Validation\n",
    "\n",
    "K-cross validation usually not used for deep learning, too computationally expensive. Rather we use **validation's step cca 0.3 with early stopping**"
   ]
  },
  {
   "cell_type": "code",
   "execution_count": 101,
   "metadata": {},
   "outputs": [
    {
     "name": "stdout",
     "output_type": "stream",
     "text": [
      "Train on 42000 samples, validate on 18000 samples\n",
      "Epoch 1/1\n",
      "42000/42000 [==============================] - 8s 185us/step - loss: 0.5001 - acc: 0.8218 - val_loss: 0.4066 - val_acc: 0.8509\n"
     ]
    }
   ],
   "source": [
    "#the number of columns in predictors\n",
    "n_cols = X_train.shape[1]\n",
    "input_shape = (n_cols,)\n",
    "# Specify the model\n",
    "model = Sequential()\n",
    "model.add(Dense(n_cols, activation='relu',input_shape=(n_cols,)))\n",
    "model.add(Dense(n_class, activation='softmax'))\n",
    "# Compile the model\n",
    "model.compile(optimizer='adam', \n",
    "              loss='categorical_crossentropy', \n",
    "              metrics=['accuracy'] )\n",
    "# Fit the model\n",
    "model_fit = model.fit(X_train, y_train, validation_split=0.3 )"
   ]
  },
  {
   "cell_type": "markdown",
   "metadata": {},
   "source": [
    "### Validation - Early stopping"
   ]
  },
  {
   "cell_type": "code",
   "execution_count": 102,
   "metadata": {},
   "outputs": [
    {
     "name": "stdout",
     "output_type": "stream",
     "text": [
      "Train on 42000 samples, validate on 18000 samples\n",
      "Epoch 1/30\n",
      "42000/42000 [==============================] - 7s 176us/step - loss: 0.4995 - acc: 0.8224 - val_loss: 0.4534 - val_acc: 0.8305\n",
      "Epoch 2/30\n",
      "42000/42000 [==============================] - 7s 170us/step - loss: 0.3726 - acc: 0.8649 - val_loss: 0.3902 - val_acc: 0.8583\n",
      "Epoch 3/30\n",
      "42000/42000 [==============================] - 7s 166us/step - loss: 0.3358 - acc: 0.8764 - val_loss: 0.3595 - val_acc: 0.8674\n",
      "Epoch 4/30\n",
      "42000/42000 [==============================] - 8s 183us/step - loss: 0.3074 - acc: 0.8855 - val_loss: 0.3408 - val_acc: 0.8790\n",
      "Epoch 5/30\n",
      "42000/42000 [==============================] - 7s 163us/step - loss: 0.2875 - acc: 0.8927 - val_loss: 0.3165 - val_acc: 0.8853\n",
      "Epoch 6/30\n",
      "42000/42000 [==============================] - 8s 182us/step - loss: 0.2695 - acc: 0.8989 - val_loss: 0.3233 - val_acc: 0.8827\n",
      "Epoch 7/30\n",
      "42000/42000 [==============================] - 7s 171us/step - loss: 0.2553 - acc: 0.9042 - val_loss: 0.3587 - val_acc: 0.8692\n"
     ]
    },
    {
     "data": {
      "text/plain": [
       "<keras.callbacks.History at 0xb1dcdfa10>"
      ]
     },
     "execution_count": 102,
     "metadata": {},
     "output_type": "execute_result"
    }
   ],
   "source": [
    "from keras.callbacks import EarlyStopping\n",
    "\n",
    "#the number of columns in predictors\n",
    "n_cols = X_train.shape[1]\n",
    "input_shape = (n_cols,)\n",
    "# Specify the model\n",
    "model = Sequential()\n",
    "model.add(Dense(n_cols, activation='relu',input_shape=(n_cols,)))\n",
    "model.add(Dense(n_class, activation='softmax'))\n",
    "# Compile the model\n",
    "model.compile(optimizer='adam', \n",
    "              loss='categorical_crossentropy', \n",
    "              metrics=['accuracy'] )\n",
    "\n",
    "# Define early_stopping_monitor\n",
    "early_stopping_monitor = EarlyStopping(patience=2) #Stop optimization when the validation loss hasn't improved for 2 epochs\n",
    "\n",
    "# Fit the model\n",
    "model.fit(X_train, y_train, validation_split=0.3, epochs=30, callbacks=[early_stopping_monitor])"
   ]
  },
  {
   "cell_type": "markdown",
   "metadata": {},
   "source": [
    "### Validation - Compare two models"
   ]
  },
  {
   "cell_type": "code",
   "execution_count": 26,
   "metadata": {},
   "outputs": [
    {
     "data": {
      "image/png": "[encoded data removed]",
      "text/plain": [
       "<Figure size 432x288 with 1 Axes>"
      ]
     },
     "metadata": {},
     "output_type": "display_data"
    }
   ],
   "source": [
    "# Define early_stopping_monitor\n",
    "early_stopping_monitor = EarlyStopping(patience=2)\n",
    "\n",
    "# Specify the new model for comparison\n",
    "model_2 = Sequential()\n",
    "model_2.add(Dense(n_cols, activation='relu',input_shape=(n_cols,)))\n",
    "model_2.add(Dense(50, activation='relu'))\n",
    "model_2.add(Dense(n_class, activation='softmax'))\n",
    "\n",
    "# Compile model_2\n",
    "model_2.compile(optimizer='adam',\n",
    "                loss='categorical_crossentropy',\n",
    "                metrics=['accuracy'])\n",
    "\n",
    "# Fit model\n",
    "model_1_train = model.fit(X_train, y_train, epochs=10, validation_split=0.3, callbacks=[early_stopping_monitor], verbose=False)\n",
    "\n",
    "# Fit model_2\n",
    "model_2_train = model_2.fit(X_train, y_train, epochs=10, validation_split=0.3, callbacks=[early_stopping_monitor], verbose=False)\n",
    "\n",
    "# Create the plot\n",
    "plt.plot(model_1_train.history['val_loss'], 'r', model_2_train.history['val_loss'], 'b')\n",
    "plt.xlabel('Epochs')\n",
    "plt.ylabel('Validation score')\n",
    "plt.show()"
   ]
  },
  {
   "cell_type": "code",
   "execution_count": 139,
   "metadata": {},
   "outputs": [
    {
     "name": "stdout",
     "output_type": "stream",
     "text": [
      "Ok, overall on the testing set we classified correctly 8607 out of 10000. Let's now see some pictures that we missed actually.\n"
     ]
    },
    {
     "data": {
      "image/png": "[encoded data removed]",
      "text/plain": [
       "<Figure size 1440x576 with 20 Axes>"
      ]
     },
     "metadata": {},
     "output_type": "display_data"
    }
   ],
   "source": [
    "# get predictions\n",
    "y_hat = model.predict(X_test)\n",
    "\n",
    "# compare predictions with true labels\n",
    "m =[]\n",
    "for index in range(10000):\n",
    "       m.append(np.argmax(y_hat[index]) == np.argmax(y_test[index]))\n",
    "\n",
    "\n",
    "print(\"Ok, overall on the testing set we classified correctly {} out of {}. Let's now see some pictures that we missed actually.\".format(np.sum(m), len(m)))\n",
    "\n",
    "\n",
    "#choose 20 of the positions where we miss-classified\n",
    "miss_class = [i for i,x in enumerate(m) if x==False][0:21]\n",
    "\n",
    "# plot miss-classified objects\n",
    "clothes_labels = {0:\"T-shirt\",\n",
    "                        1:\"Trousers\",     \n",
    "                        2:\"Pullover\", \n",
    "                        3:\"Dress\",       \n",
    "                        4:\"Coat\",    \n",
    "                        5:\"Sandals\", \n",
    "                        6:\"Shirt\", \n",
    "                        7:\"Sneakers\", \n",
    "                        8:\"Bag\", \n",
    "                        9:\"Ankle boots\"}\n",
    "\n",
    "figure = plt.figure(figsize=(20, 8))\n",
    "for i in range(20):\n",
    "    ax = figure.add_subplot(4, 5, i + 1, xticks=[], yticks=[])\n",
    "    ax.imshow(X_test_raw[miss_class][i], cmap=plt.get_cmap('gray'))\n",
    "    prediction = np.argmax(y_hat[i])\n",
    "    ax.set_title(\"{}\".format(clothes_labels[prediction]))       "
   ]
  }
 ],
 "metadata": {
  "kernelspec": {
   "display_name": "Python [conda env:anaconda3]",
   "language": "python",
   "name": "conda-env-anaconda3-py"
  },
  "language_info": {
   "codemirror_mode": {
    "name": "ipython",
    "version": 2
   },
   "file_extension": ".py",
   "mimetype": "text/x-python",
   "name": "python",
   "nbconvert_exporter": "python",
   "pygments_lexer": "ipython2",
   "version": "2.7.15"
  }
 },
 "nbformat": 4,
 "nbformat_minor": 2
}
